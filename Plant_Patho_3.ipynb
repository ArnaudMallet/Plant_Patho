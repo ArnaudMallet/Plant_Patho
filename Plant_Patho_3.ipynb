{
 "cells": [
  {
   "cell_type": "code",
   "execution_count": 17,
   "metadata": {},
   "outputs": [],
   "source": [
    "%matplotlib inline\n",
    "import numpy as np # linear algebra\n",
    "import pandas as pd # data processing, CSV file I/O (e.g. pd.read_csv)\n",
    "from PIL import Image\n",
    "import glob, os\n",
    "from glob import glob\n",
    "import matplotlib.pyplot as plt\n",
    "\n",
    "import torchvision\n",
    "from torchvision import datasets\n",
    "import torchvision.transforms as transforms\n",
    "\n",
    "import torch\n",
    "import torch.nn as nn\n",
    "import torch.nn.functional as F\n",
    "import torch.optim as optim\n",
    "from torch.utils.data import Dataset, DataLoader\n",
    "from tqdm import tqdm"
   ]
  },
  {
   "cell_type": "code",
   "execution_count": 18,
   "metadata": {},
   "outputs": [
    {
     "name": "stdout",
     "output_type": "stream",
     "text": [
      "False\n"
     ]
    }
   ],
   "source": [
    "# check if CUDA is available\n",
    "use_cuda = torch.cuda.is_available()\n",
    "print(use_cuda)"
   ]
  },
  {
   "cell_type": "code",
   "execution_count": 19,
   "metadata": {},
   "outputs": [],
   "source": [
    "data_dir = ''"
   ]
  },
  {
   "cell_type": "code",
   "execution_count": 20,
   "metadata": {},
   "outputs": [
    {
     "name": "stdout",
     "output_type": "stream",
     "text": [
      "There are 3642 total images.\n"
     ]
    },
    {
     "data": {
      "text/html": [
       "<div>\n",
       "<style scoped>\n",
       "    .dataframe tbody tr th:only-of-type {\n",
       "        vertical-align: middle;\n",
       "    }\n",
       "\n",
       "    .dataframe tbody tr th {\n",
       "        vertical-align: top;\n",
       "    }\n",
       "\n",
       "    .dataframe thead th {\n",
       "        text-align: right;\n",
       "    }\n",
       "</style>\n",
       "<table border=\"1\" class=\"dataframe\">\n",
       "  <thead>\n",
       "    <tr style=\"text-align: right;\">\n",
       "      <th></th>\n",
       "      <th>image_id</th>\n",
       "      <th>healthy</th>\n",
       "      <th>multiple_diseases</th>\n",
       "      <th>rust</th>\n",
       "      <th>scab</th>\n",
       "    </tr>\n",
       "  </thead>\n",
       "  <tbody>\n",
       "    <tr>\n",
       "      <td>0</td>\n",
       "      <td>Train_0</td>\n",
       "      <td>0</td>\n",
       "      <td>0</td>\n",
       "      <td>0</td>\n",
       "      <td>1</td>\n",
       "    </tr>\n",
       "    <tr>\n",
       "      <td>1</td>\n",
       "      <td>Train_1</td>\n",
       "      <td>0</td>\n",
       "      <td>1</td>\n",
       "      <td>0</td>\n",
       "      <td>0</td>\n",
       "    </tr>\n",
       "    <tr>\n",
       "      <td>2</td>\n",
       "      <td>Train_2</td>\n",
       "      <td>1</td>\n",
       "      <td>0</td>\n",
       "      <td>0</td>\n",
       "      <td>0</td>\n",
       "    </tr>\n",
       "    <tr>\n",
       "      <td>3</td>\n",
       "      <td>Train_3</td>\n",
       "      <td>0</td>\n",
       "      <td>0</td>\n",
       "      <td>1</td>\n",
       "      <td>0</td>\n",
       "    </tr>\n",
       "    <tr>\n",
       "      <td>4</td>\n",
       "      <td>Train_4</td>\n",
       "      <td>1</td>\n",
       "      <td>0</td>\n",
       "      <td>0</td>\n",
       "      <td>0</td>\n",
       "    </tr>\n",
       "    <tr>\n",
       "      <td>...</td>\n",
       "      <td>...</td>\n",
       "      <td>...</td>\n",
       "      <td>...</td>\n",
       "      <td>...</td>\n",
       "      <td>...</td>\n",
       "    </tr>\n",
       "    <tr>\n",
       "      <td>1816</td>\n",
       "      <td>Train_1816</td>\n",
       "      <td>0</td>\n",
       "      <td>0</td>\n",
       "      <td>0</td>\n",
       "      <td>1</td>\n",
       "    </tr>\n",
       "    <tr>\n",
       "      <td>1817</td>\n",
       "      <td>Train_1817</td>\n",
       "      <td>1</td>\n",
       "      <td>0</td>\n",
       "      <td>0</td>\n",
       "      <td>0</td>\n",
       "    </tr>\n",
       "    <tr>\n",
       "      <td>1818</td>\n",
       "      <td>Train_1818</td>\n",
       "      <td>1</td>\n",
       "      <td>0</td>\n",
       "      <td>0</td>\n",
       "      <td>0</td>\n",
       "    </tr>\n",
       "    <tr>\n",
       "      <td>1819</td>\n",
       "      <td>Train_1819</td>\n",
       "      <td>0</td>\n",
       "      <td>0</td>\n",
       "      <td>1</td>\n",
       "      <td>0</td>\n",
       "    </tr>\n",
       "    <tr>\n",
       "      <td>1820</td>\n",
       "      <td>Train_1820</td>\n",
       "      <td>0</td>\n",
       "      <td>0</td>\n",
       "      <td>0</td>\n",
       "      <td>1</td>\n",
       "    </tr>\n",
       "  </tbody>\n",
       "</table>\n",
       "<p>1821 rows × 5 columns</p>\n",
       "</div>"
      ],
      "text/plain": [
       "        image_id  healthy  multiple_diseases  rust  scab\n",
       "0        Train_0        0                  0     0     1\n",
       "1        Train_1        0                  1     0     0\n",
       "2        Train_2        1                  0     0     0\n",
       "3        Train_3        0                  0     1     0\n",
       "4        Train_4        1                  0     0     0\n",
       "...          ...      ...                ...   ...   ...\n",
       "1816  Train_1816        0                  0     0     1\n",
       "1817  Train_1817        1                  0     0     0\n",
       "1818  Train_1818        1                  0     0     0\n",
       "1819  Train_1819        0                  0     1     0\n",
       "1820  Train_1820        0                  0     0     1\n",
       "\n",
       "[1821 rows x 5 columns]"
      ]
     },
     "execution_count": 20,
     "metadata": {},
     "output_type": "execute_result"
    }
   ],
   "source": [
    "# Verification of the number of Images \n",
    "\n",
    "# load filenames for human and dog images\n",
    "size = 0\n",
    "size = np.array(glob(data_dir+\"images/*\"))\n",
    "\n",
    "# Check one image\n",
    "#Image.open(open(\"/kaggle/input/plant-pathology-2020-fgvc7/images/Train_3.jpg\", 'rb'))\n",
    "\n",
    "# print number of images in each dataset\n",
    "print('There are %d total images.' % len(size))\n",
    "\n",
    "sample_csv = pd.read_csv(data_dir + 'sample_submission.csv')\n",
    "test_csv = pd.read_csv(data_dir + 'test.csv')\n",
    "train_csv = pd.read_csv(data_dir + 'train.csv')\n",
    "\n",
    "train_csv"
   ]
  },
  {
   "cell_type": "code",
   "execution_count": 61,
   "metadata": {},
   "outputs": [],
   "source": [
    "class CustomDataset(Dataset):\n",
    "    def __init__(self, csv_file, id_col, target_col, root_dir, sufix=None, transform=None):\n",
    "        \"\"\"\n",
    "        Args:\n",
    "            csv_file   (string):             Path to the csv file with annotations.\n",
    "            root_dir   (string):             Directory with all the images.\n",
    "            id_col     (string):             csv id column name.\n",
    "            target_col (string):             csv target column name.\n",
    "            sufix      (string, optional):   Optional sufix for samples.\n",
    "            transform  (callable, optional): Optional transform to be applied on a sample.\n",
    "        \"\"\"\n",
    "        self.data      = pd.read_csv(csv_file)\n",
    "        self.id        = id_col\n",
    "        self.target    = target_col\n",
    "        self.root      = root_dir\n",
    "        self.sufix     = sufix\n",
    "        self.transform = transform\n",
    "\n",
    "    def __len__(self):\n",
    "        return len(self.data)\n",
    "\n",
    "    def __getitem__(self, idx):\n",
    "        # get the image name at the different idx\n",
    "        img_name = self.data.loc[idx, self.id]\n",
    "        \n",
    "        # if there is not sufic, nothing happened. in this case sufix is '.jpg'\n",
    "        if self.sufix is not None:\n",
    "            img_name = img_name + self.sufix\n",
    "        \n",
    "        # it opens the image of the img_name at the specific idx\n",
    "        image = Image.open(os.path.join(self.root, img_name))\n",
    "        \n",
    "        # if there is not transform nothing happens, here we defined below two transforms for train and for test\n",
    "        if self.transform is not None:\n",
    "            image = self.transform(image)\n",
    "        \n",
    "        # define the label based on the idx\n",
    "        label = self.data.iloc[idx, 1:5].values.astype('int64')\n",
    "        label = np.argwhere(label ==1)\n",
    "        label = label.item(0)\n",
    "        label = torch.tensor(label)\n",
    "        \n",
    "        return image, label\n",
    "    \n",
    "data_transforms = {\n",
    "    'train': transforms.Compose([\n",
    "        transforms.Resize(256),\n",
    "        transforms.CenterCrop(224),\n",
    "        transforms.RandomHorizontalFlip(),\n",
    "        transforms.ToTensor(),\n",
    "    ]),\n",
    "    'test': transforms.Compose([\n",
    "        transforms.Resize(256),\n",
    "        transforms.CenterCrop(224),\n",
    "        transforms.ToTensor(),\n",
    "    ])\n",
    "}\n",
    "\n",
    "params = {\n",
    "    'id_col':     'image_id',  \n",
    "    'target_col': ['healthy', 'multiple_diseases', 'rust', 'scab'],\n",
    "    'sufix':      '.jpg',\n",
    "    'transform':  data_transforms['train']\n",
    "}\n",
    "\n",
    "train_dataset = CustomDataset(csv_file=data_dir+'train.csv', root_dir=data_dir+'images', **params)\n",
    "train_loader = DataLoader(train_dataset, batch_size=4, shuffle=True)"
   ]
  },
  {
   "cell_type": "code",
   "execution_count": 62,
   "metadata": {},
   "outputs": [
    {
     "name": "stdout",
     "output_type": "stream",
     "text": [
      "TRAINING\n",
      "DATASET\n",
      "image at the first row:  torch.Size([3, 224, 224])\n",
      "image size at the first row: torch.Size([3, 224, 224])\n",
      "Lab at the first row:  tensor(3)\n",
      "lab format at the first row: 3\n",
      "lab format at the first row: torch.Size([])\n",
      "\n",
      "Train Loader type\n",
      "<class 'torch.utils.data.dataloader._SingleProcessDataLoaderIter'>\n",
      "\n",
      "DATALOADER\n",
      "images type on batch size = <class 'torch.Tensor'>\n",
      "images shape on batch size =  torch.Size([4, 3, 224, 224])\n",
      "labels type on batch size = <class 'torch.Tensor'>\n",
      "labels shape on batch size =  torch.Size([4])\n"
     ]
    }
   ],
   "source": [
    "\n",
    "\n",
    "print('TRAINING')\n",
    "img, lab = train_dataset.__getitem__(0)\n",
    "\n",
    "print('DATASET')\n",
    "print('image at the first row: ', img.shape)\n",
    "print('image size at the first row: {}'.format(img.size()))\n",
    "print('Lab at the first row: ', lab)\n",
    "print('lab format at the first row: {}'.format(lab))\n",
    "print('lab format at the first row: {}'.format(lab.shape))\n",
    "\n",
    "\n",
    "print()\n",
    "print('Train Loader type')\n",
    "train_iter = iter(train_loader)\n",
    "print(type(train_iter))\n",
    "\n",
    "images, labels = train_iter.next()\n",
    "print()\n",
    "print('DATALOADER')\n",
    "print('images type on batch size = {}'.format(type(images)))\n",
    "print('images shape on batch size = ', images.shape)\n",
    "print('labels type on batch size = {}'.format(type(labels)))\n",
    "print('labels shape on batch size = ', labels.shape)\n",
    "\n"
   ]
  },
  {
   "cell_type": "code",
   "execution_count": 28,
   "metadata": {},
   "outputs": [],
   "source": [
    "# define the CNN architecture\n",
    "class Net(nn.Module):\n",
    "    ### TODO: choose an architecture, and complete the class\n",
    "    def __init__(self):\n",
    "        super(Net, self).__init__()\n",
    "        ## Define layers of a CNN\n",
    "        # CL sees 224 x 224 x 3 image tensor\n",
    "        self.conv1 = nn.Conv2d(3, 16, 3, padding=1)\n",
    "        self.conv11= nn.Conv2d(16, 16, 2, padding=0)\n",
    "        self.conv1_1 = nn.Conv2d(16, 32, 3, padding=1)\n",
    "        \n",
    "        # CL sees 112 x 112 x 16\n",
    "        self.conv2 = nn.Conv2d(32, 64, 3, padding=1)\n",
    "        self.conv22 = nn.Conv2d(64, 64, 2, padding=0)\n",
    "        self.conv2_1 = nn.Conv2d(64, 128, 3, padding=1)\n",
    "        \n",
    "        \n",
    "        # CL sees 56 x 56 x 32\n",
    "        self.conv3 = nn.Conv2d(128, 256, 3, padding=1)\n",
    "        self.conv33 = nn.Conv2d(256, 256, 2, padding=0)\n",
    "        self.conv3_1 = nn.Conv2d(256, 512, 3, padding=1)\n",
    "        \n",
    "        \n",
    "        # CL sees 56 x 56 x 32\n",
    "        #self.conv4 = nn.Conv2d(256, 512, 2, padding=0)\n",
    "        #self.conv4_1 = nn.Conv2d(512, 512, 3, padding=1)\n",
    "        #self.batchnorm512 = nn.BatchNorm2d(512)\n",
    "        \n",
    "        #batchNorm\n",
    "        self.batchnorm16 = nn.BatchNorm2d(16)\n",
    "        self.batchnorm32 = nn.BatchNorm2d(32)\n",
    "        self.batchnorm64 = nn.BatchNorm2d(64)\n",
    "        self.batchnorm128 = nn.BatchNorm2d(128)\n",
    "        self.batchnorm256 = nn.BatchNorm2d(256)\n",
    "        self.batchnorm512 = nn.BatchNorm2d(512)\n",
    "        self.batchnorm1024 = nn.BatchNorm2d(1024)\n",
    "        self.batchnorm2048 = nn.BatchNorm2d(2048)\n",
    "        \n",
    "        # Max pooling layer\n",
    "        self.pool = nn.MaxPool2d(3, 3)\n",
    "        self.AVGpool = nn.AvgPool2d(3, 3)\n",
    "        \n",
    "        # linear layer (64 * 28 * 28 -> 500)\n",
    "        self.fc1 = nn.Linear(512 * 7 * 7, 500)\n",
    "        \n",
    "        # linear layer (500 -> 250)\n",
    "        self.fc2 = nn.Linear(500, 250)\n",
    "        \n",
    "        # linear layer \n",
    "        #self.fc3 = nn.Linear(500, 250)\n",
    "        \n",
    "        # linear layer (250 -> 4)\n",
    "        self.fc4 = nn.Linear(250, 4)\n",
    "        \n",
    "        # dropout layer (p=0.25)\n",
    "        self.dropout = nn.Dropout2d(0.2)\n",
    "        \n",
    "        # LogSoftmax\n",
    "        self.LogSM = nn.LogSoftmax()\n",
    "    \n",
    "    def forward(self, x):\n",
    "        ## Define forward behavior\n",
    "        # 1st CNN\n",
    "        # 3 => 16\n",
    "        x = self.conv1(x)\n",
    "        x = F.relu6(x)\n",
    "        x = self.conv11(x)\n",
    "        x = F.relu6(x)\n",
    "        x = self.batchnorm16(x)\n",
    "        \n",
    "        # 16 => 32\n",
    "        x = self.conv1_1(x)\n",
    "        x = F.relu6(x)\n",
    "        x = self.batchnorm32(x)\n",
    "        \n",
    "        x = self.AVGpool(x)\n",
    "        x = self.dropout(x)\n",
    "        \n",
    "        # 2nd CNN\n",
    "        # 32 => 64\n",
    "        x = self.conv2(x)\n",
    "        x = F.relu6(x)\n",
    "        x = self.conv22(x)\n",
    "        x = F.relu6(x)\n",
    "        x = self.batchnorm64(x)\n",
    "        \n",
    "        # 64 => 128\n",
    "        x = self.conv2_1(x)\n",
    "        x = F.relu6(x)\n",
    "        x = self.batchnorm128(x)\n",
    "        \n",
    "        x = self.AVGpool(x)\n",
    "        x = self.dropout(x)\n",
    "        \n",
    "        # 3rd CNN\n",
    "        # 128 => 256\n",
    "        x = self.conv3(x)\n",
    "        x = F.relu6(x)\n",
    "        x = self.conv33(x)\n",
    "        x = F.relu6(x)\n",
    "        x = self.batchnorm256(x)\n",
    "\n",
    "        # 256 => 512\n",
    "        x = self.conv3_1(x)\n",
    "        x = F.relu6(x)\n",
    "        x = self.batchnorm512(x)\n",
    "        \n",
    "        x = self.AVGpool(x)\n",
    "        x = self.dropout(x)\n",
    "        \n",
    "        \n",
    "        #print(x.shape)\n",
    "        # flatten image input\n",
    "        #print(x.shape)\n",
    "        x = x.view(-1, 512 * 7 * 7)\n",
    "        #x = self.dropout(x)\n",
    "        \n",
    "        # add 1st hidden layer, with relu activation function\n",
    "        x = self.fc1(x)\n",
    "        x = F.relu6(x)\n",
    "        x = self.dropout(x)\n",
    "        \n",
    "        #h2\n",
    "        x = self.fc2(x)\n",
    "        x = F.relu6(x)\n",
    "        x = self.dropout(x)\n",
    "        \n",
    "        #h3\n",
    "        #x = self.fc3(x)\n",
    "        #x = F.relu(x)\n",
    "        #x = self.dropout(x)\n",
    "        x = self.LogSM(self.fc4(x))\n",
    "\n",
    "        return x\n",
    "\n",
    "#-#-# You do NOT have to modify the code below this line. #-#-#\n",
    "\n",
    "# instantiate the CNN\n",
    "model_patho = Net()\n",
    "\n",
    "# move tensors to GPU if CUDA is available\n",
    "if use_cuda:\n",
    "    model_scratch.cuda()\n",
    "\n",
    "    \n",
    "model_patho = Net()\n"
   ]
  },
  {
   "cell_type": "code",
   "execution_count": 29,
   "metadata": {},
   "outputs": [],
   "source": [
    "### TODO: select loss function\n",
    "criterion = nn.CrossEntropyLoss()\n",
    "\n",
    "### TODO: select optimizer\n",
    "optimizer = optim.SGD(model_patho.parameters(), lr=0.001)"
   ]
  },
  {
   "cell_type": "code",
   "execution_count": 33,
   "metadata": {},
   "outputs": [],
   "source": [
    "def train(n_epochs, loaders, model, optimizer, criterion):\n",
    "    \"\"\"returns trained model\"\"\"\n",
    "    # initialize tracker for minimum validation loss\n",
    "    valid_loss_min = np.Inf \n",
    "    \n",
    "    for epoch in range(1, n_epochs+1):\n",
    "        # initialize variables to monitor training and validation loss\n",
    "        train_loss = 0.0\n",
    "        valid_loss = 0.0\n",
    "        \n",
    "        ###################\n",
    "        # train the model #\n",
    "        ###################\n",
    "        model.train()\n",
    "        for idx, (data, target) in enumerate(loaders):\n",
    "\n",
    "            ## find the loss and update the model parameters accordingly\n",
    "            ## record the average training loss, using something like\n",
    "            ## train_loss = train_loss + ((1 / (batch_idx + 1)) * (loss.data - train_loss))\n",
    "            optimizer.zero_grad()\n",
    "            output = model(data)\n",
    "            loss = criterion(output, target)\n",
    "            # backward pass: compute gradient of the loss with respect to model parameters\n",
    "            loss.backward()\n",
    "            # perform a single optimization step (parameter update)\n",
    "            optimizer.step()\n",
    "            #update training loss\n",
    "            train_loss += loss.item()*data.size(0)\n",
    "            \n",
    "        # calculate average losses\n",
    "        train_loss = train_loss/len(loaders.sampler)\n",
    "        # print training/validation statistics \n",
    "        print('Epoch: {} \\tTraining Loss: {:.6f}'.format(\n",
    "            epoch, \n",
    "            train_loss,\n",
    "            torch.save(model.state_dict(), 'model_patho_32.pt')\n",
    "            ))\n",
    "            \n",
    "    # return trained model\n",
    "    return model"
   ]
  },
  {
   "cell_type": "code",
   "execution_count": 34,
   "metadata": {
    "scrolled": false
   },
   "outputs": [
    {
     "name": "stderr",
     "output_type": "stream",
     "text": [
      "C:\\Users\\amallet\\Anaconda\\envs\\udacity_env\\lib\\site-packages\\ipykernel_launcher.py:132: UserWarning: Implicit dimension choice for log_softmax has been deprecated. Change the call to include dim=X as an argument.\n"
     ]
    },
    {
     "name": "stdout",
     "output_type": "stream",
     "text": [
      "Epoch: 1 \tTraining Loss: 1.004141\n",
      "Epoch: 2 \tTraining Loss: 0.960683\n",
      "Epoch: 3 \tTraining Loss: 0.938496\n",
      "Epoch: 4 \tTraining Loss: 0.916939\n",
      "Epoch: 5 \tTraining Loss: 0.895067\n",
      "Epoch: 6 \tTraining Loss: 0.864333\n",
      "Epoch: 7 \tTraining Loss: 0.851494\n",
      "Epoch: 8 \tTraining Loss: 0.829878\n",
      "Epoch: 9 \tTraining Loss: 0.820450\n",
      "Epoch: 10 \tTraining Loss: 0.794355\n",
      "Epoch: 11 \tTraining Loss: 0.771522\n",
      "Epoch: 12 \tTraining Loss: 0.762736\n",
      "Epoch: 13 \tTraining Loss: 0.746701\n",
      "Epoch: 14 \tTraining Loss: 0.733960\n",
      "Epoch: 15 \tTraining Loss: 0.707590\n",
      "Epoch: 16 \tTraining Loss: 0.693949\n",
      "Epoch: 17 \tTraining Loss: 0.685360\n",
      "Epoch: 18 \tTraining Loss: 0.700350\n",
      "Epoch: 19 \tTraining Loss: 0.678340\n",
      "Epoch: 20 \tTraining Loss: 0.661870\n"
     ]
    }
   ],
   "source": [
    "model_res = train(20, train_loader, model_patho, optimizer, criterion)\n",
    "\n"
   ]
  },
  {
   "cell_type": "code",
   "execution_count": 35,
   "metadata": {},
   "outputs": [
    {
     "data": {
      "text/plain": [
       "<All keys matched successfully>"
      ]
     },
     "execution_count": 35,
     "metadata": {},
     "output_type": "execute_result"
    }
   ],
   "source": [
    "# load the model that got the best validation accuracy\n",
    "model_res.load_state_dict(torch.load('model_patho_32.pt'))"
   ]
  },
  {
   "cell_type": "markdown",
   "metadata": {},
   "source": [
    "# TEST"
   ]
  },
  {
   "cell_type": "code",
   "execution_count": 69,
   "metadata": {},
   "outputs": [],
   "source": [
    "class CustomDataset_test(Dataset):\n",
    "    def __init__(self, csv_file, id_col, target_col, root_dir, sufix=None, transform=None):\n",
    "        \"\"\"\n",
    "        Args:\n",
    "            csv_file   (string):             Path to the csv file with annotations.\n",
    "            root_dir   (string):             Directory with all the images.\n",
    "            id_col     (string):             csv id column name.\n",
    "            target_col (string):             csv target column name.\n",
    "            sufix      (string, optional):   Optional sufix for samples.\n",
    "            transform  (callable, optional): Optional transform to be applied on a sample.\n",
    "        \"\"\"\n",
    "        self.data      = pd.read_csv(csv_file)\n",
    "        self.id        = id_col\n",
    "        self.target    = target_col\n",
    "        self.root      = root_dir\n",
    "        self.sufix     = sufix\n",
    "        self.transform = transform\n",
    "\n",
    "    def __len__(self):\n",
    "        return len(self.data)\n",
    "\n",
    "    def __getitem__(self, idx):\n",
    "        # get the image name at the different idx\n",
    "        img_name = self.data.loc[idx, self.id]\n",
    "        \n",
    "        # if there is not sufic, nothing happened. in this case sufix is '.jpg'\n",
    "        if self.sufix is not None:\n",
    "            img_name = img_name + self.sufix\n",
    "        \n",
    "        # it opens the image of the img_name at the specific idx\n",
    "        image = Image.open(os.path.join(self.root, img_name))\n",
    "        \n",
    "        # if there is not transform nothing happens, here we defined below two transforms for train and for test\n",
    "        if self.transform is not None:\n",
    "            image = self.transform(image)\n",
    "        \n",
    "        return image\n",
    "\n",
    "data_transforms_test = {\n",
    "    'train': transforms.Compose([\n",
    "        transforms.Resize(256),\n",
    "        transforms.CenterCrop(224),\n",
    "        transforms.RandomHorizontalFlip(),\n",
    "        transforms.ToTensor(),\n",
    "    ]),\n",
    "    'test': transforms.Compose([\n",
    "        transforms.Resize(256),\n",
    "        transforms.CenterCrop(224),\n",
    "        transforms.ToTensor(),\n",
    "    ])\n",
    "}\n",
    "\n",
    "params = {\n",
    "    'id_col':     'image_id',  \n",
    "    'target_col': ['healthy', 'multiple_diseases', 'rust', 'scab'],\n",
    "    'sufix':      '.jpg',\n",
    "    'transform':  data_transforms['test']\n",
    "}\n",
    "\n",
    "test_dataset = CustomDataset_test(csv_file=data_dir+'test.csv', root_dir=data_dir+'images', **params)\n",
    "test_loader = DataLoader(test_dataset, batch_size = 4, shuffle=True)\n",
    "\n",
    "\n"
   ]
  },
  {
   "cell_type": "code",
   "execution_count": 70,
   "metadata": {},
   "outputs": [
    {
     "name": "stdout",
     "output_type": "stream",
     "text": [
      "TRAINING\n",
      "DATASET TEST\n",
      "image at the first row: {} torch.Size([3, 224, 224])\n",
      "image size at the first row: torch.Size([3, 224, 224])\n",
      "\n",
      "Train Loader type\n",
      "<class 'torch.utils.data.dataloader._SingleProcessDataLoaderIter'>\n",
      "\n",
      "DATALOADER\n",
      "images type on batch size = <class 'torch.Tensor'>\n",
      "images shape on batch size = {} torch.Size([4, 3, 224, 224])\n",
      "labels type on batch size = <class 'torch.Tensor'>\n",
      "labels shape on batch size = {} torch.Size([4])\n"
     ]
    }
   ],
   "source": [
    "print('TRAINING')\n",
    "img_test = test_dataset.__getitem__(0)\n",
    "\n",
    "print('DATASET TEST')\n",
    "print('image at the first row: {}', img_test.shape)\n",
    "print('image size at the first row: {}'.format(img_test.size()))\n",
    "\n",
    "print()\n",
    "print('Train Loader type')\n",
    "test_iter = iter(test_loader)\n",
    "print(type(test_iter))\n",
    "\n",
    "images_test, labels_test = train_iter.next()\n",
    "print()\n",
    "print('DATALOADER')\n",
    "print('images type on batch size = {}'.format(type(images_test)))\n",
    "print('images shape on batch size = {}', images_test.shape)\n",
    "print('labels type on batch size = {}'.format(type(labels_test)))\n",
    "print('labels shape on batch size = {}', labels_test.shape)"
   ]
  },
  {
   "cell_type": "code",
   "execution_count": 71,
   "metadata": {},
   "outputs": [
    {
     "data": {
      "image/png": "[encoded data removed]",
      "text/plain": [
       "<Figure size 432x288 with 1 Axes>"
      ]
     },
     "metadata": {
      "needs_background": "light"
     },
     "output_type": "display_data"
    },
    {
     "name": "stdout",
     "output_type": "stream",
     "text": [
      "GroundTruth:  healthy healthy healthy healthy\n"
     ]
    }
   ],
   "source": [
    "classes = ('healthy', 'multiple_diseases', 'rust', 'scab')\n",
    "\n",
    "dataiter_test = iter(test_loader)\n",
    "images_test = dataiter_test.next()\n",
    "\n",
    "def imshow(img):\n",
    "    img = img / 2 + 0.5     # unnormalize\n",
    "    npimg = img.numpy()\n",
    "    plt.imshow(np.transpose(npimg, (1, 2, 0)))\n",
    "    plt.show()\n",
    "\n",
    "# print images\n",
    "imshow(torchvision.utils.make_grid(images_test))\n",
    "print('GroundTruth: ', ' '.join('%5s' % classes[labels[j]] for j in range(4)))"
   ]
  },
  {
   "cell_type": "code",
   "execution_count": 75,
   "metadata": {},
   "outputs": [
    {
     "data": {
      "text/plain": [
       "tensor(0.3412)"
      ]
     },
     "execution_count": 75,
     "metadata": {},
     "output_type": "execute_result"
    }
   ],
   "source": [
    "images_test[0][1][1][1]"
   ]
  },
  {
   "cell_type": "code",
   "execution_count": 76,
   "metadata": {
    "scrolled": true
   },
   "outputs": [
    {
     "name": "stderr",
     "output_type": "stream",
     "text": [
      "C:\\Users\\amallet\\Anaconda\\envs\\udacity_env\\lib\\site-packages\\ipykernel_launcher.py:132: UserWarning: Implicit dimension choice for log_softmax has been deprecated. Change the call to include dim=X as an argument.\n"
     ]
    }
   ],
   "source": [
    "model_test = Net()\n",
    "model_test.load_state_dict(torch.load('model_patho_32.pt'))\n",
    "\n",
    "outputs_test = model_test(images_test)"
   ]
  },
  {
   "cell_type": "code",
   "execution_count": 77,
   "metadata": {},
   "outputs": [
    {
     "name": "stdout",
     "output_type": "stream",
     "text": [
      "Predicted:   rust healthy healthy  rust\n"
     ]
    }
   ],
   "source": [
    "_, predicted = torch.max(outputs_test, 1)\n",
    "\n",
    "print('Predicted: ', ' '.join('%5s' % classes[predicted[j]] for j in range(4)))"
   ]
  },
  {
   "cell_type": "code",
   "execution_count": 84,
   "metadata": {},
   "outputs": [
    {
     "name": "stderr",
     "output_type": "stream",
     "text": [
      "C:\\Users\\amallet\\Anaconda\\envs\\udacity_env\\lib\\site-packages\\ipykernel_launcher.py:132: UserWarning: Implicit dimension choice for log_softmax has been deprecated. Change the call to include dim=X as an argument.\n"
     ]
    },
    {
     "data": {
      "text/plain": [
       "tensor(-4.9501, grad_fn=<SelectBackward>)"
      ]
     },
     "execution_count": 84,
     "metadata": {},
     "output_type": "execute_result"
    }
   ],
   "source": [
    "img_test = data_transforms_test['test'](Image.open(open(\"images/Train_3.jpg\", 'rb')))\n",
    "\n",
    "res_lis = model_test(images_test)\n",
    "\n",
    "res_lis[0][0]"
   ]
  },
  {
   "cell_type": "markdown",
   "metadata": {},
   "source": [
    "# Submission"
   ]
  },
  {
   "cell_type": "code",
   "execution_count": null,
   "metadata": {},
   "outputs": [],
   "source": [
    "submission_df = pd.read_csv(data_dir + 'sample_submission.csv')\n",
    "submission_df.iloc[:, 1:] = 0\n",
    "\n",
    "submission_df.head()"
   ]
  },
  {
   "cell_type": "code",
   "execution_count": null,
   "metadata": {},
   "outputs": [],
   "source": [
    "submission = []\n",
    "for batch_idx, data in enumerate(test_loader):\n",
    "    #print(batch_idx)\n",
    "    output = model_test(data)\n",
    "    #print(output)\n",
    "    #output = output.cpu().detach().numpy()\n",
    "    #print(output)\n",
    "    #output = np.argmax(output)\n",
    "    #print(output)\n",
    "    submission.append(output)\n"
   ]
  },
  {
   "cell_type": "code",
   "execution_count": null,
   "metadata": {},
   "outputs": [],
   "source": [
    "print(submission)"
   ]
  },
  {
   "cell_type": "code",
   "execution_count": null,
   "metadata": {},
   "outputs": [],
   "source": [
    "sample_submission = pd.read_csv('sample_submission.csv')\n",
    "sample_submission.head()"
   ]
  },
  {
   "cell_type": "code",
   "execution_count": null,
   "metadata": {},
   "outputs": [],
   "source": [
    "healthy = []\n",
    "multiple_disease = []\n",
    "rust = []\n",
    "scab = []\n",
    "for i in tqdm(range(len(submission))):\n",
    "    healthy.append(submission[i][0][0])\n",
    "    multiple_disease.append(submission[i][0][1])\n",
    "    rust.append(submission[i][0][2])\n",
    "    scab.append(submission[i][0][3])"
   ]
  }
 ],
 "metadata": {
  "kernelspec": {
   "display_name": "Python 3",
   "language": "python",
   "name": "python3"
  },
  "language_info": {
   "codemirror_mode": {
    "name": "ipython",
    "version": 3
   },
   "file_extension": ".py",
   "mimetype": "text/x-python",
   "name": "python",
   "nbconvert_exporter": "python",
   "pygments_lexer": "ipython3",
   "version": "3.7.4"
  }
 },
 "nbformat": 4,
 "nbformat_minor": 2
}
